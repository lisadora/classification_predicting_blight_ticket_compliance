{
 "cells": [
  {
   "cell_type": "markdown",
   "metadata": {},
   "source": [
    "## Classification - Predicting if a blight-ticket will be paid on time\n",
    "\n",
    "\n",
    "**Research question** \n",
    "\n",
    "The City of Detroit has a big Issue with blight violations and unpaid blight-tickets. I want to build a good and sparse model to predict, whether a given blight ticket will be paid on time. \n",
    "\n",
    "\n",
    "**Data Describtion**\n",
    "\n",
    "The data for this assignment stems from the [Detroit Open Data Portal](https://data.detroitmi.gov/):\n",
    "- train.csv (all tickets issued 2004-2011)\n",
    "- test.csv (all tickets issued 2012-2016)\n",
    "\n",
    "Columns - train.csv & test.csv\n",
    "\n",
    "    ticket_id - unique identifier for tickets\n",
    "    agency_name - Agency that issued the ticket\n",
    "    inspector_name - Name of inspector that issued the ticket\n",
    "    violator_name - Name of the person/organization that the ticket was issued to\n",
    "    violation_street_number, violation_street_name, violation_zip_code - Address where the violation occurred\n",
    "    mailing_address_str_number, mailing_address_str_name, city, state, zip_code, non_us_str_code, country - Mailing address of the violator\n",
    "    ticket_issued_date - Date and time the ticket was issued\n",
    "    hearing_date - Date and time the violator's hearing was scheduled\n",
    "    violation_code, violation_description - Type of violation\n",
    "    disposition - Judgment and judgement type\n",
    "    fine_amount - Violation fine amount, excluding fees\n",
    "    admin_fee - $20 fee assigned to responsible judgments\n",
    "state_fee - $10 fee assigned to responsible judgments\n",
    "    late_fee - 10% fee assigned to responsible judgments\n",
    "    discount_amount - discount applied, if any\n",
    "    clean_up_cost - DPW clean-up or graffiti removal cost\n",
    "    judgment_amount - Sum of all fines and fees\n",
    "    grafitti_status - Flag for graffiti violations\n",
    "    \n",
    "train.csv only\n",
    "\n",
    "    payment_amount - Amount paid, if any\n",
    "    payment_date - Date payment was made, if it was received\n",
    "    payment_status - Current payment status as of Feb 1 2017\n",
    "    balance_due - Fines and fees still owed\n",
    "    collection_status - Flag for payments in collections\n",
    "    compliance [target variable for prediction] \n",
    "     Null = Not responsible\n",
    "     0 = Responsible, non-compliant\n",
    "     1 = Responsible, compliant\n",
    "    compliance_detail - More information on why each ticket was marked compliant or non-compliant\n",
    "\n",
    "\n",
    "Each row in these two files corresponds to a single blight ticket, and includes information about when, why, and to whom each ticket was issued. The target variable is compliance, which is True if the ticket was paid early, on time, or within one month of the hearing data, False if the ticket was paid after the hearing date or not at all, and Null if the violator was found not responsible. Compliance, as well as a handful of other variables that will not be available at test-time, are only included in train.csv. All tickets where the violators were found not responsible are not considered during evaluation. They are included in the training set as an additional source of data for visualization, and to enable unsupervised and semi-supervised approaches. However, they are not included in the test set.\n",
    "\n",
    "**Methodology**\n",
    "\n",
    "- Feature selection\n",
    "    - first intuitive feature selection (getting rid of variables with too many or only one unique value)\n",
    "    - testing the relation between the remaining variables and the target compliance\n",
    "- training a Logistic Regression classifer using grid searching for C\n",
    "- trainign the final model with C = 0.1, that maximizes the auc index\n",
    "\n",
    "**Results**\n",
    "\n",
    "The final model uses the features **'violation_code', 'disposition', 'discount_amount', 'judgment_amount'** for prediction. The area under the curve is 0.789. \n"
   ]
  },
  {
   "cell_type": "code",
   "execution_count": 38,
   "metadata": {},
   "outputs": [],
   "source": [
    "#importing libraries\n",
    "import pandas as pd\n",
    "import numpy as np\n",
    "from sklearn.linear_model import LogisticRegression\n",
    "from sklearn.metrics import roc_curve, auc\n",
    "from sklearn.model_selection import GridSearchCV\n",
    "from sklearn.metrics import roc_auc_score, confusion_matrix\n",
    "from scipy import stats\n",
    "import numpy as np\n",
    "import itertools\n",
    "import matplotlib.pyplot as plt\n",
    "%matplotlib inline"
   ]
  },
  {
   "cell_type": "code",
   "execution_count": 39,
   "metadata": {},
   "outputs": [
    {
     "name": "stderr",
     "output_type": "stream",
     "text": [
      "C:\\Users\\User\\Anaconda3\\lib\\site-packages\\IPython\\core\\interactiveshell.py:3020: DtypeWarning: Columns (11,12) have mixed types. Specify dtype option on import or set low_memory=False.\n",
      "  interactivity=interactivity, compiler=compiler, result=result)\n"
     ]
    }
   ],
   "source": [
    "#loading the test and train datasets\n",
    "df_test = pd.read_csv(\"test1.csv\")\n",
    "df_train = pd.read_csv(\"train1.csv\", encoding = \"latin1\")\n",
    "df_test.set_index('ticket_id', inplace=True) \n",
    "df_train.set_index('ticket_id', inplace=True) \n",
    "df_train.dropna(subset=[\"compliance\"], axis=0, inplace = True) "
   ]
  },
  {
   "cell_type": "code",
   "execution_count": 40,
   "metadata": {},
   "outputs": [],
   "source": [
    "#dropping the columns from train-dataset, that are not in the test dataset\n",
    "X_train = df_train.drop(['payment_amount','payment_date', 'payment_status', 'balance_due', 'collection_status', 'compliance_detail'] , axis = 1)"
   ]
  },
  {
   "cell_type": "code",
   "execution_count": 41,
   "metadata": {},
   "outputs": [
    {
     "name": "stdout",
     "output_type": "stream",
     "text": [
      "zip_code 4314\n",
      "clean_up_cost 1\n",
      "grafitti_status 1\n",
      "violation_zip_code 1\n",
      "violator_name 84657\n",
      "inspector_name 159\n",
      "agency_name 5\n",
      "disposition 4\n",
      "violation_code 189\n",
      "discount_amount 13\n"
     ]
    }
   ],
   "source": [
    "#explore the count of values for some variables\n",
    "print(\"zip_code\", len(X_train[\"zip_code\"].unique()))\n",
    "print(\"clean_up_cost\", len(X_train[\"clean_up_cost\"].unique()))\n",
    "print(\"grafitti_status\", len(X_train[\"grafitti_status\"].unique()))\n",
    "print(\"violation_zip_code\", len(X_train[\"violation_zip_code\"].unique()))\n",
    "print(\"violator_name\", len(X_train[\"violator_name\"].unique()))\n",
    "print(\"inspector_name\", len(X_train[\"inspector_name\"].unique()))\n",
    "print(\"agency_name\", len(X_train[\"agency_name\"].unique()))\n",
    "print(\"disposition\", len(X_train[\"disposition\"].unique()))\n",
    "print(\"violation_code\", len(X_train[\"violation_code\"].unique()))\n",
    "print(\"discount_amount\", len(X_train[\"discount_amount\"].unique()))"
   ]
  },
  {
   "cell_type": "code",
   "execution_count": 42,
   "metadata": {},
   "outputs": [],
   "source": [
    "#first intuitive feature selection \n",
    "X_train = X_train.drop(['violation_street_name', 'grafitti_status', 'mailing_address_str_name', 'clean_up_cost', 'inspector_name', 'state', 'city', 'violation_street_number', 'late_fee', 'admin_fee', 'fine_amount', 'state_fee', 'violation_description', 'country', 'mailing_address_str_number', 'non_us_str_code', 'violation_street_number', 'violation_zip_code', 'violator_name', 'zip_code'], axis = 1)\n",
    "X_test = df_test.drop(['violation_street_name', 'grafitti_status', 'mailing_address_str_name', 'clean_up_cost', 'inspector_name','state', 'city', 'violation_street_number', 'late_fee', 'admin_fee', 'fine_amount', 'state_fee', 'violation_description', 'country', 'mailing_address_str_number', 'non_us_str_code', 'violation_street_number', 'violation_zip_code', 'violator_name', 'zip_code'] , axis = 1)"
   ]
  },
  {
   "cell_type": "code",
   "execution_count": 43,
   "metadata": {},
   "outputs": [
    {
     "name": "stdout",
     "output_type": "stream",
     "text": [
      "Cramers V: violation_code 0.11256353092463021\n",
      "---------\n",
      "Cramers V: disposition 0.349473162539608\n",
      "---------\n",
      "Cramers V: agency_name 0.06464381608563328\n",
      "---------\n"
     ]
    }
   ],
   "source": [
    "#check relations of variables\n",
    "def cramers_v(x, y):\n",
    "    confusion_matrix = pd.crosstab(x,y)\n",
    "    chi2 = stats.chi2_contingency(confusion_matrix)[0]\n",
    "    n = confusion_matrix.sum().sum()\n",
    "    phi2 = chi2/n\n",
    "    r,k = confusion_matrix.shape\n",
    "    phi2corr = max(0, phi2-((k-1)*(r-1))/(n-1))\n",
    "    rcorr = r-((r-1)**2)/(n-1)\n",
    "    kcorr = k-((k-1)**2)/(n-1)\n",
    "    return np.sqrt(phi2corr/min((kcorr-1),(rcorr-1)))\n",
    "\n",
    "for i in [\"violation_code\", \"disposition\", \"agency_name\"]:\n",
    "    c = cramers_v(X_train[i], X_train[\"compliance\"])\n",
    "    print(\"Cramers V:\", i, c)\n",
    "    print(\"---------\")"
   ]
  },
  {
   "cell_type": "code",
   "execution_count": 44,
   "metadata": {},
   "outputs": [
    {
     "data": {
      "text/html": [
       "<div>\n",
       "<style scoped>\n",
       "    .dataframe tbody tr th:only-of-type {\n",
       "        vertical-align: middle;\n",
       "    }\n",
       "\n",
       "    .dataframe tbody tr th {\n",
       "        vertical-align: top;\n",
       "    }\n",
       "\n",
       "    .dataframe thead th {\n",
       "        text-align: right;\n",
       "    }\n",
       "</style>\n",
       "<table border=\"1\" class=\"dataframe\">\n",
       "  <thead>\n",
       "    <tr style=\"text-align: right;\">\n",
       "      <th></th>\n",
       "      <th>compliance</th>\n",
       "    </tr>\n",
       "    <tr>\n",
       "      <th>agency_name</th>\n",
       "      <th></th>\n",
       "    </tr>\n",
       "  </thead>\n",
       "  <tbody>\n",
       "    <tr>\n",
       "      <th>Buildings, Safety Engineering &amp; Env Department</th>\n",
       "      <td>0.060743</td>\n",
       "    </tr>\n",
       "    <tr>\n",
       "      <th>Department of Public Works</th>\n",
       "      <td>0.089961</td>\n",
       "    </tr>\n",
       "    <tr>\n",
       "      <th>Detroit Police Department</th>\n",
       "      <td>0.131720</td>\n",
       "    </tr>\n",
       "    <tr>\n",
       "      <th>Health Department</th>\n",
       "      <td>0.065851</td>\n",
       "    </tr>\n",
       "    <tr>\n",
       "      <th>Neighborhood City Halls</th>\n",
       "      <td>0.000000</td>\n",
       "    </tr>\n",
       "  </tbody>\n",
       "</table>\n",
       "</div>"
      ],
      "text/plain": [
       "                                                compliance\n",
       "agency_name                                               \n",
       "Buildings, Safety Engineering & Env Department    0.060743\n",
       "Department of Public Works                        0.089961\n",
       "Detroit Police Department                         0.131720\n",
       "Health Department                                 0.065851\n",
       "Neighborhood City Halls                           0.000000"
      ]
     },
     "execution_count": 44,
     "metadata": {},
     "output_type": "execute_result"
    }
   ],
   "source": [
    "X_train.groupby(['agency_name'])[['compliance']].mean()"
   ]
  },
  {
   "cell_type": "code",
   "execution_count": 28,
   "metadata": {},
   "outputs": [
    {
     "data": {
      "text/html": [
       "<div>\n",
       "<style scoped>\n",
       "    .dataframe tbody tr th:only-of-type {\n",
       "        vertical-align: middle;\n",
       "    }\n",
       "\n",
       "    .dataframe tbody tr th {\n",
       "        vertical-align: top;\n",
       "    }\n",
       "\n",
       "    .dataframe thead th {\n",
       "        text-align: right;\n",
       "    }\n",
       "</style>\n",
       "<table border=\"1\" class=\"dataframe\">\n",
       "  <thead>\n",
       "    <tr style=\"text-align: right;\">\n",
       "      <th></th>\n",
       "      <th>compliance</th>\n",
       "    </tr>\n",
       "    <tr>\n",
       "      <th>disposition</th>\n",
       "      <th></th>\n",
       "    </tr>\n",
       "  </thead>\n",
       "  <tbody>\n",
       "    <tr>\n",
       "      <th>Responsible (Fine Waived) by Deter</th>\n",
       "      <td>1.000000</td>\n",
       "    </tr>\n",
       "    <tr>\n",
       "      <th>Responsible by Admission</th>\n",
       "      <td>0.275016</td>\n",
       "    </tr>\n",
       "    <tr>\n",
       "      <th>Responsible by Default</th>\n",
       "      <td>0.038203</td>\n",
       "    </tr>\n",
       "    <tr>\n",
       "      <th>Responsible by Determination</th>\n",
       "      <td>0.307300</td>\n",
       "    </tr>\n",
       "  </tbody>\n",
       "</table>\n",
       "</div>"
      ],
      "text/plain": [
       "                                    compliance\n",
       "disposition                                   \n",
       "Responsible (Fine Waived) by Deter    1.000000\n",
       "Responsible by Admission              0.275016\n",
       "Responsible by Default                0.038203\n",
       "Responsible by Determination          0.307300"
      ]
     },
     "execution_count": 28,
     "metadata": {},
     "output_type": "execute_result"
    }
   ],
   "source": [
    "X_train.groupby(['disposition'])[['compliance']].mean()"
   ]
  },
  {
   "cell_type": "code",
   "execution_count": 45,
   "metadata": {},
   "outputs": [],
   "source": [
    "#calculate time from issue to hearing in both datasets\n",
    "X_train[\"ticket_issued_date\"] = pd.to_datetime(X_train[\"ticket_issued_date\"])\n",
    "X_train[\"hearing_date\"] = pd.to_datetime(X_train[\"hearing_date\"])\n",
    "X_train[\"Issue-to-hearing\"] = X_train[\"hearing_date\"] - X_train[\"ticket_issued_date\"] \n",
    "X_train[\"Issue-to-hearing\"] = X_train[\"Issue-to-hearing\"].apply(lambda x: x.days if not (pd.isnull(x)) else pd.NaT)\n",
    "mean = X_train[\"Issue-to-hearing\"].mean(axis = 0)\n",
    "X_train[\"Issue-to-hearing\"].replace(np.nan, mean, inplace = True)\n",
    "X_train[\"Issue-to-hearing\"] = X_train[\"Issue-to-hearing\"].astype(\"float\")\n",
    "X_train = X_train.drop(['ticket_issued_date', 'hearing_date'], axis = 1)"
   ]
  },
  {
   "cell_type": "code",
   "execution_count": 46,
   "metadata": {},
   "outputs": [
    {
     "name": "stdout",
     "output_type": "stream",
     "text": [
      "Issue-to-hearing :  PointbiserialrResult(correlation=-0.004672096558149998, pvalue=0.06174349771682061)\n",
      "---------\n",
      "discount_amount :  PointbiserialrResult(correlation=0.15607267980266504, pvalue=0.0)\n",
      "---------\n",
      "judgment_amount :  PointbiserialrResult(correlation=-0.05263748458313446, pvalue=1.79279435680102e-98)\n",
      "---------\n"
     ]
    }
   ],
   "source": [
    "#check pointbiserial correlation for the continous variables\n",
    "for i in [\"Issue-to-hearing\",\"discount_amount\", \"judgment_amount\"]:\n",
    "    pb = stats.pointbiserialr(X_train[\"compliance\"], X_train[i])\n",
    "    print(i,\": \", pb)\n",
    "    print(\"---------\")"
   ]
  },
  {
   "cell_type": "code",
   "execution_count": 47,
   "metadata": {},
   "outputs": [
    {
     "data": {
      "text/html": [
       "<div>\n",
       "<style scoped>\n",
       "    .dataframe tbody tr th:only-of-type {\n",
       "        vertical-align: middle;\n",
       "    }\n",
       "\n",
       "    .dataframe tbody tr th {\n",
       "        vertical-align: top;\n",
       "    }\n",
       "\n",
       "    .dataframe thead th {\n",
       "        text-align: right;\n",
       "    }\n",
       "</style>\n",
       "<table border=\"1\" class=\"dataframe\">\n",
       "  <thead>\n",
       "    <tr style=\"text-align: right;\">\n",
       "      <th></th>\n",
       "      <th>discount_amount</th>\n",
       "      <th>judgment_amount</th>\n",
       "      <th>Issue-to-hearing</th>\n",
       "    </tr>\n",
       "    <tr>\n",
       "      <th>compliance</th>\n",
       "      <th></th>\n",
       "      <th></th>\n",
       "      <th></th>\n",
       "    </tr>\n",
       "  </thead>\n",
       "  <tbody>\n",
       "    <tr>\n",
       "      <th>0.0</th>\n",
       "      <td>0.008700</td>\n",
       "      <td>431.580958</td>\n",
       "      <td>72.729231</td>\n",
       "    </tr>\n",
       "    <tr>\n",
       "      <th>1.0</th>\n",
       "      <td>2.590325</td>\n",
       "      <td>280.886229</td>\n",
       "      <td>71.601231</td>\n",
       "    </tr>\n",
       "  </tbody>\n",
       "</table>\n",
       "</div>"
      ],
      "text/plain": [
       "            discount_amount  judgment_amount  Issue-to-hearing\n",
       "compliance                                                    \n",
       "0.0                0.008700       431.580958         72.729231\n",
       "1.0                2.590325       280.886229         71.601231"
      ]
     },
     "execution_count": 47,
     "metadata": {},
     "output_type": "execute_result"
    }
   ],
   "source": [
    "X_train.groupby(\"compliance\").mean()"
   ]
  },
  {
   "cell_type": "code",
   "execution_count": 48,
   "metadata": {},
   "outputs": [],
   "source": [
    "#further droppings for the final dataset\n",
    "X_train = X_train.drop([\"compliance\", \"Issue-to-hearing\", \"agency_name\"], axis = 1)"
   ]
  },
  {
   "cell_type": "code",
   "execution_count": 49,
   "metadata": {},
   "outputs": [],
   "source": [
    "#standardizing the continous variables\n",
    "from sklearn.preprocessing import StandardScaler\n",
    "X_train[[\"judgment_amount\", \"discount_amount\"]] = StandardScaler().fit_transform(X_train[[\"judgment_amount\", \"discount_amount\"]])\n",
    "X_test[[\"judgment_amount\", \"discount_amount\"]] = StandardScaler().fit_transform(X_test[[\"judgment_amount\", \"discount_amount\"]])"
   ]
  },
  {
   "cell_type": "code",
   "execution_count": 50,
   "metadata": {},
   "outputs": [],
   "source": [
    "#dummy-coding the categorical variables of interest\n",
    "cat_vars=['disposition','violation_code']\n",
    "for var in cat_vars:\n",
    "    dum = pd.get_dummies(X_train[var], prefix=var)\n",
    "    X_train = pd.concat([X_train, dum], axis=1)\n",
    "    X_train.drop([var], axis = 1, inplace=True)\n",
    "    dum = pd.get_dummies(X_test[var], prefix=var)\n",
    "    X_test = pd.concat([X_test, dum], axis=1)\n",
    "    X_test.drop([var], axis = 1, inplace=True)  "
   ]
  },
  {
   "cell_type": "code",
   "execution_count": 51,
   "metadata": {},
   "outputs": [],
   "source": [
    "y_train = df_train.loc[:,\"compliance\"]\n",
    "    \n",
    "from sklearn.model_selection import train_test_split\n",
    "x_tr, x_te, y_tr, y_te = train_test_split(X_train, y_train, random_state=1)"
   ]
  },
  {
   "cell_type": "code",
   "execution_count": 52,
   "metadata": {},
   "outputs": [
    {
     "name": "stderr",
     "output_type": "stream",
     "text": [
      "C:\\Users\\User\\Anaconda3\\lib\\site-packages\\sklearn\\model_selection\\_split.py:2053: FutureWarning: You should specify a value for 'cv' instead of relying on the default value. The default value will change from 3 to 5 in version 0.22.\n",
      "  warnings.warn(CV_WARNING, FutureWarning)\n"
     ]
    },
    {
     "name": "stdout",
     "output_type": "stream",
     "text": [
      "Test set AUC:  0.7847925887855366\n",
      "Grid best parameter (max. AUC):  {'C': 0.1}\n",
      "Grid best score (AUC):  0.7899095504175344\n"
     ]
    }
   ],
   "source": [
    "grid_values = {'C': [0.001, 0.01, 0.1, 1, 10]}\n",
    "LR = LogisticRegression(solver ='liblinear')\n",
    "grid= GridSearchCV(LR, param_grid = grid_values, scoring= 'roc_auc')\n",
    "grid.fit(x_tr, y_tr)\n",
    "decisionf = grid.decision_function(x_te) \n",
    "print('Test set AUC: ', roc_auc_score(y_te, decisionf))\n",
    "print('Grid best parameter (max. AUC): ', grid.best_params_)\n",
    "print('Grid best score (AUC): ', grid.best_score_)"
   ]
  },
  {
   "cell_type": "code",
   "execution_count": 53,
   "metadata": {},
   "outputs": [
    {
     "data": {
      "text/plain": [
       "0.7847925887855366"
      ]
     },
     "execution_count": 53,
     "metadata": {},
     "output_type": "execute_result"
    }
   ],
   "source": [
    "#LG-Model with C = 0.1\n",
    "LR = LogisticRegression(C=0.1, solver ='liblinear')\n",
    "LR.fit(x_tr, y_tr)\n",
    "yhat = LR.predict(x_te)\n",
    "y_score = LR.decision_function(x_te)\n",
    "auc = roc_auc_score(y_te, y_score)\n",
    "auc"
   ]
  },
  {
   "cell_type": "code",
   "execution_count": 54,
   "metadata": {},
   "outputs": [
    {
     "name": "stdout",
     "output_type": "stream",
     "text": [
      "Confusion matrix, without normalization\n",
      "[[  319  2561]\n",
      " [   25 37065]]\n"
     ]
    },
    {
     "data": {
      "image/png": "[encoded data removed]",
      "text/plain": [
       "<Figure size 432x288 with 2 Axes>"
      ]
     },
     "metadata": {
      "needs_background": "light"
     },
     "output_type": "display_data"
    }
   ],
   "source": [
    "def plot_confusion_matrix(cm, classes,\n",
    "                          normalize=False,\n",
    "                          title='Confusion matrix',\n",
    "                          cmap=plt.cm.Blues):\n",
    "    if normalize:\n",
    "        cm = cm.astype('float') / cm.sum(axis=1)[:, np.newaxis]\n",
    "        print(\"Normalized confusion matrix\")\n",
    "    else:\n",
    "        print('Confusion matrix, without normalization')\n",
    "    print(cm)\n",
    "    plt.imshow(cm, interpolation='nearest', cmap=cmap)\n",
    "    plt.title(title)\n",
    "    plt.colorbar()\n",
    "    tick_marks = np.arange(len(classes))\n",
    "    plt.xticks(tick_marks, classes, rotation=45)\n",
    "    plt.yticks(tick_marks, classes)\n",
    "\n",
    "    fmt = '.2f' if normalize else 'd'\n",
    "    thresh = cm.max() / 2.\n",
    "    for i, j in itertools.product(range(cm.shape[0]), range(cm.shape[1])):\n",
    "        plt.text(j, i, format(cm[i, j], fmt),\n",
    "                 horizontalalignment=\"center\",\n",
    "                 color=\"white\" if cm[i, j] > thresh else \"black\")\n",
    "\n",
    "    plt.tight_layout()\n",
    "    plt.ylabel('True label')\n",
    "    plt.xlabel('Predicted label')\n",
    "cnf_matrix = confusion_matrix(y_te, yhat, labels=[1,0])\n",
    "np.set_printoptions(precision=2)\n",
    "plot_confusion_matrix(cnf_matrix, classes=['compliance=1','no  compliance=0'],normalize= False,  title='Confusion matrix') "
   ]
  },
  {
   "cell_type": "code",
   "execution_count": 55,
   "metadata": {},
   "outputs": [],
   "source": [
    "#preparing X_test for new predictions\n",
    "\n",
    "coltr = X_train.columns.tolist()\n",
    "colte = X_test.columns.tolist()\n",
    "col_only_train = []\n",
    "for i in coltr:\n",
    "    if i not in colte:\n",
    "        col_only_train.append(i)\n",
    "col_only_test= []\n",
    "\n",
    "for i in colte:\n",
    "    if i not in coltr:\n",
    "        col_only_test.append(i)\n",
    "\n",
    "#Adding for the missing columns in test set default value 0\n",
    "for c in col_only_train:\n",
    "    X_test[c] = 0\n",
    "\n",
    "# putting order of columns in same order in both sets\n",
    "X_test.drop([i for i in col_only_test],axis = 1, inplace = True)\n",
    "\n",
    "#dropping columns that are only in the test set\n",
    "X_test = X_test[X_train.columns]    \n"
   ]
  },
  {
   "cell_type": "code",
   "execution_count": 56,
   "metadata": {},
   "outputs": [
    {
     "data": {
      "text/plain": [
       "array([[0.9 , 0.1 ],\n",
       "       [0.98, 0.02],\n",
       "       [0.95, 0.05],\n",
       "       ...,\n",
       "       [0.94, 0.06],\n",
       "       [0.94, 0.06],\n",
       "       [0.95, 0.05]])"
      ]
     },
     "execution_count": 56,
     "metadata": {},
     "output_type": "execute_result"
    }
   ],
   "source": [
    "#predicting values for X-test dataset\n",
    "yhat_prob = LR.predict_proba(X_test)\n",
    "yhat_prob"
   ]
  }
 ],
 "metadata": {
  "coursera": {
   "course_slug": "python-machine-learning",
   "graded_item_id": "nNS8l",
   "launcher_item_id": "yWWk7",
   "part_id": "w8BSS"
  },
  "kernelspec": {
   "display_name": "Python 3",
   "language": "python",
   "name": "python3"
  },
  "language_info": {
   "codemirror_mode": {
    "name": "ipython",
    "version": 3
   },
   "file_extension": ".py",
   "mimetype": "text/x-python",
   "name": "python",
   "nbconvert_exporter": "python",
   "pygments_lexer": "ipython3",
   "version": "3.7.1"
  }
 },
 "nbformat": 4,
 "nbformat_minor": 2
}
